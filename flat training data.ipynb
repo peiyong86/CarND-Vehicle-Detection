{
 "cells": [
  {
   "cell_type": "code",
   "execution_count": 4,
   "metadata": {
    "collapsed": true
   },
   "outputs": [],
   "source": [
    "import os\n",
    "import shutil"
   ]
  },
  {
   "cell_type": "code",
   "execution_count": 5,
   "metadata": {
    "collapsed": true
   },
   "outputs": [],
   "source": [
    "def flatdata(inputpath, outputpath):\n",
    "    i = 0\n",
    "    for root, folders, filenames in os.walk(inputpath):\n",
    "        for filename in filenames:\n",
    "            if filename.endswith('png'):\n",
    "                src = os.path.join(root, filename)\n",
    "                dst = os.path.join(outputpath, 'image{:0>4}.png'.format(i))\n",
    "                shutil.copy(src, dst)\n",
    "                i += 1"
   ]
  },
  {
   "cell_type": "code",
   "execution_count": 6,
   "metadata": {
    "collapsed": true
   },
   "outputs": [],
   "source": [
    "flatdata('./vehicles', './train_images/cars/')\n",
    "flatdata('./non-vehicles', './train_images/notcars/')"
   ]
  }
 ],
 "metadata": {
  "kernelspec": {
   "display_name": "Python 3",
   "language": "python",
   "name": "python3"
  },
  "language_info": {
   "codemirror_mode": {
    "name": "ipython",
    "version": 3
   },
   "file_extension": ".py",
   "mimetype": "text/x-python",
   "name": "python",
   "nbconvert_exporter": "python",
   "pygments_lexer": "ipython3",
   "version": "3.5.2"
  },
  "widgets": {
   "state": {},
   "version": "1.1.2"
  }
 },
 "nbformat": 4,
 "nbformat_minor": 2
}
